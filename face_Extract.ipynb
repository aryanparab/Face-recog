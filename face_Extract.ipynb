{
 "cells": [
  {
   "cell_type": "code",
   "execution_count": 74,
   "metadata": {},
   "outputs": [],
   "source": [
    "import cv2\n",
    "import numpy as np\n",
    "import os"
   ]
  },
  {
   "cell_type": "code",
   "execution_count": 75,
   "metadata": {},
   "outputs": [],
   "source": [
    "face_extract = cv2.CascadeClassifier('haarcasacde_facefrontal_default.xml')"
   ]
  },
  {
   "cell_type": "code",
   "execution_count": 76,
   "metadata": {},
   "outputs": [
    {
     "name": "stderr",
     "output_type": "stream",
     "text": [
      "<>:3: SyntaxWarning: \"is\" with a literal. Did you mean \"==\"?\n",
      "<>:3: SyntaxWarning: \"is\" with a literal. Did you mean \"==\"?\n",
      "<ipython-input-76-e72ba8a5fd88>:3: SyntaxWarning: \"is\" with a literal. Did you mean \"==\"?\n",
      "  if face is ():\n"
     ]
    }
   ],
   "source": [
    "def return_face(img):\n",
    "    face = face_extract.detectMultiScale(img,1.3,5)\n",
    "    if face is ():\n",
    "        return None\n",
    "    else:\n",
    "        cropped_face = []\n",
    "        for (x,y,w,h) in face :\n",
    "            x = x - 10\n",
    "            y = y - 10\n",
    "            cropped_face.append(img[y:y+h+50 , x:x+w+50])\n",
    "        return cropped_face\n",
    "        "
   ]
  },
  {
   "cell_type": "code",
   "execution_count": 79,
   "metadata": {},
   "outputs": [],
   "source": [
    "dataset = 'test'\n",
    "target = 'yes'\n",
    "def store_img(img,c):\n",
    "    new = return_face(img)\n",
    "    if new is not None :\n",
    "        for i in new :\n",
    "            try:\n",
    "                face = cv2.resize(i,(224,224))\n",
    "                file_path = os.path.join('image_classes',dataset,target,str(c))\n",
    "                print(file_path)\n",
    "                cv2.imwrite(file_path+'.jpg',face)\n",
    "            except:\n",
    "                pass\n",
    "    else:\n",
    "        pass\n"
   ]
  },
  {
   "cell_type": "code",
   "execution_count": 73,
   "metadata": {},
   "outputs": [
    {
     "name": "stdout",
     "output_type": "stream",
     "text": [
      "image_classes\\test\\no\\0\n",
      "image_classes\\test\\no\\1\n",
      "image_classes\\test\\no\\2\n",
      "image_classes\\test\\no\\3\n",
      "image_classes\\test\\no\\4\n",
      "image_classes\\test\\no\\5\n",
      "image_classes\\test\\no\\6\n",
      "image_classes\\test\\no\\7\n",
      "image_classes\\test\\no\\9\n",
      "image_classes\\test\\no\\11\n",
      "image_classes\\test\\no\\14\n",
      "image_classes\\test\\no\\15\n",
      "image_classes\\test\\no\\16\n",
      "image_classes\\test\\no\\17\n",
      "image_classes\\test\\no\\21\n",
      "image_classes\\test\\no\\22\n",
      "image_classes\\test\\no\\23\n",
      "image_classes\\test\\no\\24\n"
     ]
    }
   ],
   "source": [
    "directory = 'image_classes\\\\test\\\\no'\n",
    "count = 0\n",
    "for img in os.listdir(directory):\n",
    "     if img.endswith(\".jpg\") or img.endswith(\".png\") or img.endswith(\".jpeg\") :\n",
    "        store_img(cv2.imread(directory+\"\\\\\"+img),count)\n",
    "        count = count + 1\n",
    "        os.remove(directory+'\\\\'+img)"
   ]
  },
  {
   "cell_type": "code",
   "execution_count": 80,
   "metadata": {},
   "outputs": [
    {
     "name": "stdout",
     "output_type": "stream",
     "text": [
      "image_classes\\test\\yes\\1\n",
      "1\n",
      "image_classes\\test\\yes\\2\n",
      "2\n",
      "image_classes\\test\\yes\\3\n",
      "3\n",
      "image_classes\\test\\yes\\4\n",
      "4\n",
      "image_classes\\test\\yes\\5\n",
      "5\n",
      "image_classes\\test\\yes\\6\n",
      "6\n",
      "image_classes\\test\\yes\\7\n",
      "7\n",
      "image_classes\\test\\yes\\8\n",
      "8\n",
      "image_classes\\test\\yes\\9\n",
      "9\n",
      "image_classes\\test\\yes\\10\n",
      "10\n",
      "image_classes\\test\\yes\\11\n",
      "11\n",
      "image_classes\\test\\yes\\12\n",
      "12\n",
      "image_classes\\test\\yes\\13\n",
      "13\n",
      "image_classes\\test\\yes\\14\n",
      "14\n",
      "image_classes\\test\\yes\\15\n",
      "15\n",
      "image_classes\\test\\yes\\16\n",
      "16\n",
      "image_classes\\test\\yes\\17\n",
      "17\n",
      "image_classes\\test\\yes\\18\n",
      "18\n",
      "image_classes\\test\\yes\\19\n",
      "19\n",
      "image_classes\\test\\yes\\20\n",
      "20\n",
      "image_classes\\test\\yes\\21\n",
      "21\n",
      "image_classes\\test\\yes\\22\n",
      "22\n",
      "image_classes\\test\\yes\\23\n",
      "23\n",
      "image_classes\\test\\yes\\24\n",
      "24\n",
      "image_classes\\test\\yes\\25\n",
      "25\n",
      "image_classes\\test\\yes\\26\n",
      "26\n",
      "image_classes\\test\\yes\\27\n",
      "27\n",
      "image_classes\\test\\yes\\28\n",
      "28\n",
      "image_classes\\test\\yes\\29\n",
      "29\n",
      "image_classes\\test\\yes\\30\n",
      "30\n"
     ]
    }
   ],
   "source": [
    "count = 0\n",
    "maxx = 30\n",
    "cap = cv2.VideoCapture(0)\n",
    "while (cap.isOpened()):\n",
    "    success , img = cap.read()\n",
    "    count = count + 1\n",
    "    store_img(img,count)\n",
    "    print(count)\n",
    "    if count == maxx:\n",
    "        break\n",
    "cap.release()\n",
    "cv2.destroyAllWindows()"
   ]
  },
  {
   "cell_type": "code",
   "execution_count": 175,
   "metadata": {},
   "outputs": [
    {
     "name": "stdout",
     "output_type": "stream",
     "text": [
      "failed for aryan1.jpg\n"
     ]
    }
   ],
   "source": [
    "for i in os.listdir():\n",
    "    if i.endswith('.jpg') or i.endswith('.png') or i.endswith('.jpeg'):\n",
    "        image = cv2.imread(i)\n",
    "        try:\n",
    "            face= cv2.resize(return_face(image)[0],(224,224))\n",
    "            cv2.imwrite('face '+i,face)\n",
    "            os.remove(i)\n",
    "        except:\n",
    "            print('failed for ' + i)\n",
    "        "
   ]
  },
  {
   "cell_type": "code",
   "execution_count": 148,
   "metadata": {},
   "outputs": [],
   "source": [
    "from keras.preprocessing import image\n",
    "from keras.preprocessing.image import ImageDataGenerator, img_to_array,load_img\n",
    "\n",
    "datagen = ImageDataGenerator( width_shift_range=0.1, \n",
    "                             height_shift_range=0.1, \n",
    "                             zoom_range=0.8, horizontal_flip=True,fill_mode='nearest')"
   ]
  },
  {
   "cell_type": "code",
   "execution_count": 184,
   "metadata": {},
   "outputs": [],
   "source": [
    "\n",
    "save_here ='image_classes/test/Manoj/'\n",
    "#'C:/Users/parab/Desktop/python/opencv/images/face_recog_train/others/\n",
    "   \n",
    "image_path = 'face aryan1.jpg'\n",
    "\n",
    "image = cv2.imread(image_path)\n",
    "image = return_face(image)[0]\n",
    "image = cv2.resize(image,(224,224))\n",
    "for i in range(50):\n",
    "    cv2.imwrite(save_here+str(i)+'.jpg' , image)\n",
    "\n",
    "# x = img_to_array(image)\n",
    "# img1 = x.reshape((1,)+x.shape)\n",
    "\n",
    "# for x, val in zip(datagen.flow(img1,                    #image we chose\n",
    "#         save_to_dir=save_here,     #this is where we figure out where to save\n",
    "#             save_prefix='aug',        # it will save the images as 'aug_0912' some number for every new augmented image\n",
    "#         save_format='jpg'),range(200)) :     # here we define a range because we want 10 augmented images otherwise it will keep looping forever I think\n",
    "#     pass"
   ]
  },
  {
   "cell_type": "code",
   "execution_count": 202,
   "metadata": {},
   "outputs": [
    {
     "name": "stdout",
     "output_type": "stream",
     "text": [
      "aryan1.jpg\n",
      "aryan2.jpg\n",
      "aryan3.jpg\n",
      "aryan4.jpg\n",
      "aryan5.jpg\n",
      "aryan6.jpg\n",
      "manoj1.jpg\n",
      "manoj2.jpg\n",
      "manoj3.jpg\n",
      "manoj4.jpg\n",
      "manoj5.jpg\n",
      "manoj6.jpg\n",
      "shilp1.jpg\n",
      "shilp2.jpg\n",
      "shilp3.jpg\n",
      "shilp4.jpg\n",
      "shilp5.jpg\n",
      "shilp6.jpg\n"
     ]
    }
   ],
   "source": [
    "count = 0\n",
    "for i in os.listdir():\n",
    "    if i.endswith('.jpg') or i.endswith('.png') or i.endswith('.jpeg'):\n",
    "        image_name = i.split()[1]\n",
    "        print(image_name)\n",
    "        img = cv2.imread(i)\n",
    "        if int(image_name[5]) < 5:\n",
    "            dataset = image_name[:5]\n",
    "            path = 'image_classes/train/'+dataset+'/' \n",
    "            for j in range(50):\n",
    "                img = cv2.imread(i)\n",
    "                cv2.imwrite(path+str(count)+'.jpg' , img)\n",
    "                count  = count + 1\n",
    "        else:\n",
    "            dataset = image_name[:5]\n",
    "            path = 'image_classes/test/'+dataset+'/'\n",
    "            for j in range(20): \n",
    "                cv2.imwrite(path+str(count)+'.jpg' , img)\n",
    "                count  = count + 1\n",
    "            \n",
    "    "
   ]
  },
  {
   "cell_type": "code",
   "execution_count": null,
   "metadata": {},
   "outputs": [],
   "source": []
  }
 ],
 "metadata": {
  "kernelspec": {
   "display_name": "Python 3",
   "language": "python",
   "name": "python3"
  },
  "language_info": {
   "codemirror_mode": {
    "name": "ipython",
    "version": 3
   },
   "file_extension": ".py",
   "mimetype": "text/x-python",
   "name": "python",
   "nbconvert_exporter": "python",
   "pygments_lexer": "ipython3",
   "version": "3.8.3"
  }
 },
 "nbformat": 4,
 "nbformat_minor": 4
}
